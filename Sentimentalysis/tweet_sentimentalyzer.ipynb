{
 "cells": [
  {
   "cell_type": "code",
   "execution_count": null,
   "metadata": {},
   "outputs": [],
   "source": [
    "'''\n",
    "Sources::::: \n",
    "https://www.digitalocean.com/community/tutorials/how-to-perform-sentiment-analysis-in-python-3-using-the-natural-language-toolkit-nltk\n"
   ]
  },
  {
   "cell_type": "code",
   "execution_count": 88,
   "metadata": {},
   "outputs": [
    {
     "name": "stdout",
     "output_type": "stream",
     "text": "[nltk_data] Downloading package twitter_samples to\n[nltk_data]     C:\\Users\\SIDDHARTHA\\AppData\\Roaming\\nltk_data...\n[nltk_data]   Package twitter_samples is already up-to-date!\n[nltk_data] Downloading package punkt to\n[nltk_data]     C:\\Users\\SIDDHARTHA\\AppData\\Roaming\\nltk_data...\n[nltk_data]   Package punkt is already up-to-date!\n[nltk_data] Downloading package wordnet to\n[nltk_data]     C:\\Users\\SIDDHARTHA\\AppData\\Roaming\\nltk_data...\n[nltk_data]   Package wordnet is already up-to-date!\n[nltk_data] Downloading package averaged_perceptron_tagger to\n[nltk_data]     C:\\Users\\SIDDHARTHA\\AppData\\Roaming\\nltk_data...\n[nltk_data]   Package averaged_perceptron_tagger is already up-to-\n[nltk_data]       date!\n[nltk_data] Downloading package stopwords to\n[nltk_data]     C:\\Users\\SIDDHARTHA\\AppData\\Roaming\\nltk_data...\n[nltk_data]   Package stopwords is already up-to-date!\n"
    }
   ],
   "source": [
    "import nltk, re, string, random\n",
    "import matplotlib.pyplot as plt\n",
    "nltk.download('twitter_samples')\n",
    "nltk.download('punkt')\n",
    "nltk.download('wordnet')\n",
    "nltk.download('averaged_perceptron_tagger')\n",
    "nltk.download('stopwords')\n",
    "from nltk.corpus import twitter_samples, stopwords\n",
    "from nltk.tag import pos_tag\n",
    "from nltk.stem.wordnet import WordNetLemmatizer\n",
    "from nltk import FreqDist, classify, NaiveBayesClassifier"
   ]
  },
  {
   "cell_type": "code",
   "execution_count": 73,
   "metadata": {},
   "outputs": [],
   "source": [
    "def lemmatize_sentence(tokens):\n",
    "    '''\n",
    "    lemmatizing words, for e.g 'run', 'ran', 'running' is the same word.\n",
    "    The lemmatizer conforms similar words to an equivalent form, or is transformed to its root form\n",
    "    '''\n",
    "    lemmatizer = WordNetLemmatizer()\n",
    "    lemmatized_sentence = []\n",
    "    for word, tag in pos_tag(tokens):\n",
    "        if tag.startswith('NN'):\n",
    "            pos = 'n'\n",
    "        elif tag.startswith('VB'):\n",
    "            pos = 'v'\n",
    "        else:\n",
    "            pos = 'a'\n",
    "        lemmatized_sentence.append(lemmatizer.lemmatize(word, pos))\n",
    "    return lemmatized_sentence\n",
    "\n",
    "def remove_noise(tweet_tokens, stop_words = ()):\n",
    "    '''\n",
    "    Removing stop words like 'is', 'the' etc. lemmatize_sentence() function implementation is \n",
    "    reused here.\n",
    "    '''\n",
    "    cleaned_tokens = []\n",
    "\n",
    "    for token, tag in pos_tag(tweet_tokens):\n",
    "        token = re.sub('http[s]?://(?:[a-zA-Z]|[0-9]|[$-_@.&+#]|[!*\\(\\),]|'\\\n",
    "                       '(?:%[0-9a-fA-F][0-9a-fA-F]))+','', token)\n",
    "        token = re.sub(\"(@[A-Za-z0-9_]+)\",\"\", token)\n",
    "\n",
    "        if tag.startswith(\"NN\"):\n",
    "            pos = 'n'\n",
    "        elif tag.startswith('VB'):\n",
    "            pos = 'v'\n",
    "        else:\n",
    "            pos = 'a'\n",
    "\n",
    "        lemmatizer = WordNetLemmatizer()\n",
    "        token = lemmatizer.lemmatize(token, pos)\n",
    "\n",
    "        if len(token) > 0 and token not in string.punctuation and token.lower() not in stop_words:\n",
    "            cleaned_tokens.append(token.lower())\n",
    "    return cleaned_tokens\n",
    "\n",
    "def get_all_words(cleaned_tokens_list):\n",
    "    for tokens in cleaned_tokens_list:\n",
    "        for token in tokens:\n",
    "            yield token\n",
    "\n",
    "def get_tweets_for_model(cleaned_tokens_list):\n",
    "    for tweet_tokens in cleaned_tokens_list:\n",
    "        yield dict([token, True] for token in tweet_tokens)"
   ]
  },
  {
   "cell_type": "code",
   "execution_count": 74,
   "metadata": {},
   "outputs": [],
   "source": [
    "#print(tweet_tokens[0])\n",
    "#print(tweet_tokens[1])\n",
    "#print(pos_tag(tweet_tokens[0]))\n",
    "#print(lemmatize_sentence(tweet_tokens[0]))\n",
    "\n",
    "stop_words = stopwords.words('english')\n",
    "#print(remove_noise(tweet_tokens[0],stop_words))"
   ]
  },
  {
   "cell_type": "code",
   "execution_count": 75,
   "metadata": {},
   "outputs": [],
   "source": [
    "positive_tweets = twitter_samples.strings('positive_tweets.json')\n",
    "negative_tweets = twitter_samples.strings('negative_tweets.json')\n",
    "text = twitter_samples.strings('tweets.20150430-223406.json')\n",
    "positive_tweet_tokens = twitter_samples.tokenized('positive_tweets.json')\n",
    "negative_tweet_tokens = twitter_samples.tokenized('negative_tweets.json')"
   ]
  },
  {
   "cell_type": "code",
   "execution_count": 76,
   "metadata": {},
   "outputs": [
    {
     "name": "stdout",
     "output_type": "stream",
     "text": "['Dang', 'that', 'is', 'some', 'rad', '@AbzuGame', '#fanart', '!', ':D', 'https://t.co/bI8k8tb9ht']\n['dang', 'rad', '#fanart', ':d']\n"
    }
   ],
   "source": [
    "positive_cleaned_tokens_list = []\n",
    "negative_cleaned_tokens_list = []\n",
    "\n",
    "for tokens in positive_tweet_tokens:\n",
    "    positive_cleaned_tokens_list.append(remove_noise(tokens, stop_words))\n",
    "\n",
    "for tokens in negative_tweet_tokens:\n",
    "    negative_cleaned_tokens_list.append(remove_noise(tokens, stop_words))\n",
    "\n",
    "print(positive_tweet_tokens[500])\n",
    "print(positive_cleaned_tokens_list[500])"
   ]
  },
  {
   "cell_type": "code",
   "execution_count": 77,
   "metadata": {},
   "outputs": [
    {
     "name": "stdout",
     "output_type": "stream",
     "text": "[(':)', 3691), (':-)', 701), (':d', 658), ('thanks', 388), ('follow', 357), ('love', 333), ('...', 290), ('good', 283), ('get', 263), ('thank', 253)]\n[(':(', 4585), (':-(', 501), (\"i'm\", 343), ('...', 332), ('get', 325), ('miss', 291), ('go', 275), ('please', 275), ('want', 246), ('like', 218)]\n"
    }
   ],
   "source": [
    "all_pos_words = get_all_words(positive_cleaned_tokens_list)\n",
    "all_neg_words = get_all_words(negative_cleaned_tokens_list)\n",
    "freq_dist_pos = FreqDist(all_pos_words)\n",
    "freq_dist_neg = FreqDist(all_neg_words)\n",
    "print(freq_dist_pos.most_common(10))\n",
    "print(freq_dist_neg.most_common(10))"
   ]
  },
  {
   "cell_type": "code",
   "execution_count": 90,
   "metadata": {},
   "outputs": [
    {
     "name": "stdout",
     "output_type": "stream",
     "text": "<generator object get_tweets_for_model at 0x000001876A91BCC8>\n<generator object get_tweets_for_model at 0x000001876A91BA48>\n"
    },
    {
     "data": {
      "image/png": "[encoded data removed]",
      "image/svg+xml": "<?xml version=\"1.0\" encoding=\"utf-8\" standalone=\"no\"?>\r\n<!DOCTYPE svg PUBLIC \"-//W3C//DTD SVG 1.1//EN\"\r\n  \"http://www.w3.org/Graphics/SVG/1.1/DTD/svg11.dtd\">\r\n<!-- Created with matplotlib (https://matplotlib.org/) -->\r\n<svg height=\"319.078125pt\" version=\"1.1\" viewBox=\"0 0 478.85 319.078125\" width=\"478.85pt\" xmlns=\"http://www.w3.org/2000/svg\" xmlns:xlink=\"http://www.w3.org/1999/xlink\">\r\n <defs>\r\n  <style type=\"text/css\">\r\n*{stroke-linecap:butt;stroke-linejoin:round;}\r\n  </style>\r\n </defs>\r\n <g id=\"figure_1\">\r\n  <g id=\"patch_1\">\r\n   <path d=\"M 0 319.078125 \r\nL 478.85 319.078125 \r\nL 478.85 0 \r\nL 0 0 \r\nz\r\n\" style=\"fill:none;\"/>\r\n  </g>\r\n  <g id=\"axes_1\">\r\n   <g id=\"patch_2\">\r\n    <path d=\"M 39.65 295.2 \r\nL 471.65 295.2 \r\nL 471.65 7.2 \r\nL 39.65 7.2 \r\nz\r\n\" style=\"fill:#ffffff;\"/>\r\n   </g>\r\n   <g id=\"patch_3\">\r\n    <path clip-path=\"url(#p9835a2e660)\" d=\"M 59.286364 295.2 \r\nL 233.831818 295.2 \r\nL 233.831818 20.914286 \r\nL 59.286364 20.914286 \r\nz\r\n\" style=\"fill:#1f77b4;\"/>\r\n   </g>\r\n   <g id=\"patch_4\">\r\n    <path clip-path=\"url(#p9835a2e660)\" d=\"M 277.468182 295.2 \r\nL 452.013636 295.2 \r\nL 452.013636 20.914286 \r\nL 277.468182 20.914286 \r\nz\r\n\" style=\"fill:#1f77b4;\"/>\r\n   </g>\r\n   <g id=\"matplotlib.axis_1\">\r\n    <g id=\"xtick_1\">\r\n     <g id=\"line2d_1\">\r\n      <defs>\r\n       <path d=\"M 0 0 \r\nL 0 3.5 \r\n\" id=\"m19ecaaf723\" style=\"stroke:#000000;stroke-width:0.8;\"/>\r\n      </defs>\r\n      <g>\r\n       <use style=\"stroke:#000000;stroke-width:0.8;\" x=\"146.559091\" xlink:href=\"#m19ecaaf723\" y=\"295.2\"/>\r\n      </g>\r\n     </g>\r\n     <g id=\"text_1\">\r\n      <!-- Positive -->\r\n      <defs>\r\n       <path d=\"M 19.671875 64.796875 \r\nL 19.671875 37.40625 \r\nL 32.078125 37.40625 \r\nQ 38.96875 37.40625 42.71875 40.96875 \r\nQ 46.484375 44.53125 46.484375 51.125 \r\nQ 46.484375 57.671875 42.71875 61.234375 \r\nQ 38.96875 64.796875 32.078125 64.796875 \r\nz\r\nM 9.8125 72.90625 \r\nL 32.078125 72.90625 \r\nQ 44.34375 72.90625 50.609375 67.359375 \r\nQ 56.890625 61.8125 56.890625 51.125 \r\nQ 56.890625 40.328125 50.609375 34.8125 \r\nQ 44.34375 29.296875 32.078125 29.296875 \r\nL 19.671875 29.296875 \r\nL 19.671875 0 \r\nL 9.8125 0 \r\nz\r\n\" id=\"DejaVuSans-80\"/>\r\n       <path d=\"M 30.609375 48.390625 \r\nQ 23.390625 48.390625 19.1875 42.75 \r\nQ 14.984375 37.109375 14.984375 27.296875 \r\nQ 14.984375 17.484375 19.15625 11.84375 \r\nQ 23.34375 6.203125 30.609375 6.203125 \r\nQ 37.796875 6.203125 41.984375 11.859375 \r\nQ 46.1875 17.53125 46.1875 27.296875 \r\nQ 46.1875 37.015625 41.984375 42.703125 \r\nQ 37.796875 48.390625 30.609375 48.390625 \r\nz\r\nM 30.609375 56 \r\nQ 42.328125 56 49.015625 48.375 \r\nQ 55.71875 40.765625 55.71875 27.296875 \r\nQ 55.71875 13.875 49.015625 6.21875 \r\nQ 42.328125 -1.421875 30.609375 -1.421875 \r\nQ 18.84375 -1.421875 12.171875 6.21875 \r\nQ 5.515625 13.875 5.515625 27.296875 \r\nQ 5.515625 40.765625 12.171875 48.375 \r\nQ 18.84375 56 30.609375 56 \r\nz\r\n\" id=\"DejaVuSans-111\"/>\r\n       <path d=\"M 44.28125 53.078125 \r\nL 44.28125 44.578125 \r\nQ 40.484375 46.53125 36.375 47.5 \r\nQ 32.28125 48.484375 27.875 48.484375 \r\nQ 21.1875 48.484375 17.84375 46.4375 \r\nQ 14.5 44.390625 14.5 40.28125 \r\nQ 14.5 37.15625 16.890625 35.375 \r\nQ 19.28125 33.59375 26.515625 31.984375 \r\nL 29.59375 31.296875 \r\nQ 39.15625 29.25 43.1875 25.515625 \r\nQ 47.21875 21.78125 47.21875 15.09375 \r\nQ 47.21875 7.46875 41.1875 3.015625 \r\nQ 35.15625 -1.421875 24.609375 -1.421875 \r\nQ 20.21875 -1.421875 15.453125 -0.5625 \r\nQ 10.6875 0.296875 5.421875 2 \r\nL 5.421875 11.28125 \r\nQ 10.40625 8.6875 15.234375 7.390625 \r\nQ 20.0625 6.109375 24.8125 6.109375 \r\nQ 31.15625 6.109375 34.5625 8.28125 \r\nQ 37.984375 10.453125 37.984375 14.40625 \r\nQ 37.984375 18.0625 35.515625 20.015625 \r\nQ 33.0625 21.96875 24.703125 23.78125 \r\nL 21.578125 24.515625 \r\nQ 13.234375 26.265625 9.515625 29.90625 \r\nQ 5.8125 33.546875 5.8125 39.890625 \r\nQ 5.8125 47.609375 11.28125 51.796875 \r\nQ 16.75 56 26.8125 56 \r\nQ 31.78125 56 36.171875 55.265625 \r\nQ 40.578125 54.546875 44.28125 53.078125 \r\nz\r\n\" id=\"DejaVuSans-115\"/>\r\n       <path d=\"M 9.421875 54.6875 \r\nL 18.40625 54.6875 \r\nL 18.40625 0 \r\nL 9.421875 0 \r\nz\r\nM 9.421875 75.984375 \r\nL 18.40625 75.984375 \r\nL 18.40625 64.59375 \r\nL 9.421875 64.59375 \r\nz\r\n\" id=\"DejaVuSans-105\"/>\r\n       <path d=\"M 18.3125 70.21875 \r\nL 18.3125 54.6875 \r\nL 36.8125 54.6875 \r\nL 36.8125 47.703125 \r\nL 18.3125 47.703125 \r\nL 18.3125 18.015625 \r\nQ 18.3125 11.328125 20.140625 9.421875 \r\nQ 21.96875 7.515625 27.59375 7.515625 \r\nL 36.8125 7.515625 \r\nL 36.8125 0 \r\nL 27.59375 0 \r\nQ 17.1875 0 13.234375 3.875 \r\nQ 9.28125 7.765625 9.28125 18.015625 \r\nL 9.28125 47.703125 \r\nL 2.6875 47.703125 \r\nL 2.6875 54.6875 \r\nL 9.28125 54.6875 \r\nL 9.28125 70.21875 \r\nz\r\n\" id=\"DejaVuSans-116\"/>\r\n       <path d=\"M 2.984375 54.6875 \r\nL 12.5 54.6875 \r\nL 29.59375 8.796875 \r\nL 46.6875 54.6875 \r\nL 56.203125 54.6875 \r\nL 35.6875 0 \r\nL 23.484375 0 \r\nz\r\n\" id=\"DejaVuSans-118\"/>\r\n       <path d=\"M 56.203125 29.59375 \r\nL 56.203125 25.203125 \r\nL 14.890625 25.203125 \r\nQ 15.484375 15.921875 20.484375 11.0625 \r\nQ 25.484375 6.203125 34.421875 6.203125 \r\nQ 39.59375 6.203125 44.453125 7.46875 \r\nQ 49.3125 8.734375 54.109375 11.28125 \r\nL 54.109375 2.78125 \r\nQ 49.265625 0.734375 44.1875 -0.34375 \r\nQ 39.109375 -1.421875 33.890625 -1.421875 \r\nQ 20.796875 -1.421875 13.15625 6.1875 \r\nQ 5.515625 13.8125 5.515625 26.8125 \r\nQ 5.515625 40.234375 12.765625 48.109375 \r\nQ 20.015625 56 32.328125 56 \r\nQ 43.359375 56 49.78125 48.890625 \r\nQ 56.203125 41.796875 56.203125 29.59375 \r\nz\r\nM 47.21875 32.234375 \r\nQ 47.125 39.59375 43.09375 43.984375 \r\nQ 39.0625 48.390625 32.421875 48.390625 \r\nQ 24.90625 48.390625 20.390625 44.140625 \r\nQ 15.875 39.890625 15.1875 32.171875 \r\nz\r\n\" id=\"DejaVuSans-101\"/>\r\n      </defs>\r\n      <g transform=\"translate(127.10831 309.798437)scale(0.1 -0.1)\">\r\n       <use xlink:href=\"#DejaVuSans-80\"/>\r\n       <use x=\"60.255859\" xlink:href=\"#DejaVuSans-111\"/>\r\n       <use x=\"121.4375\" xlink:href=\"#DejaVuSans-115\"/>\r\n       <use x=\"173.537109\" xlink:href=\"#DejaVuSans-105\"/>\r\n       <use x=\"201.320312\" xlink:href=\"#DejaVuSans-116\"/>\r\n       <use x=\"240.529297\" xlink:href=\"#DejaVuSans-105\"/>\r\n       <use x=\"268.3125\" xlink:href=\"#DejaVuSans-118\"/>\r\n       <use x=\"327.492188\" xlink:href=\"#DejaVuSans-101\"/>\r\n      </g>\r\n     </g>\r\n    </g>\r\n    <g id=\"xtick_2\">\r\n     <g id=\"line2d_2\">\r\n      <g>\r\n       <use style=\"stroke:#000000;stroke-width:0.8;\" x=\"364.740909\" xlink:href=\"#m19ecaaf723\" y=\"295.2\"/>\r\n      </g>\r\n     </g>\r\n     <g id=\"text_2\">\r\n      <!-- Negative -->\r\n      <defs>\r\n       <path d=\"M 9.8125 72.90625 \r\nL 23.09375 72.90625 \r\nL 55.421875 11.921875 \r\nL 55.421875 72.90625 \r\nL 64.984375 72.90625 \r\nL 64.984375 0 \r\nL 51.703125 0 \r\nL 19.390625 60.984375 \r\nL 19.390625 0 \r\nL 9.8125 0 \r\nz\r\n\" id=\"DejaVuSans-78\"/>\r\n       <path d=\"M 45.40625 27.984375 \r\nQ 45.40625 37.75 41.375 43.109375 \r\nQ 37.359375 48.484375 30.078125 48.484375 \r\nQ 22.859375 48.484375 18.828125 43.109375 \r\nQ 14.796875 37.75 14.796875 27.984375 \r\nQ 14.796875 18.265625 18.828125 12.890625 \r\nQ 22.859375 7.515625 30.078125 7.515625 \r\nQ 37.359375 7.515625 41.375 12.890625 \r\nQ 45.40625 18.265625 45.40625 27.984375 \r\nz\r\nM 54.390625 6.78125 \r\nQ 54.390625 -7.171875 48.1875 -13.984375 \r\nQ 42 -20.796875 29.203125 -20.796875 \r\nQ 24.46875 -20.796875 20.265625 -20.09375 \r\nQ 16.0625 -19.390625 12.109375 -17.921875 \r\nL 12.109375 -9.1875 \r\nQ 16.0625 -11.328125 19.921875 -12.34375 \r\nQ 23.78125 -13.375 27.78125 -13.375 \r\nQ 36.625 -13.375 41.015625 -8.765625 \r\nQ 45.40625 -4.15625 45.40625 5.171875 \r\nL 45.40625 9.625 \r\nQ 42.625 4.78125 38.28125 2.390625 \r\nQ 33.9375 0 27.875 0 \r\nQ 17.828125 0 11.671875 7.65625 \r\nQ 5.515625 15.328125 5.515625 27.984375 \r\nQ 5.515625 40.671875 11.671875 48.328125 \r\nQ 17.828125 56 27.875 56 \r\nQ 33.9375 56 38.28125 53.609375 \r\nQ 42.625 51.21875 45.40625 46.390625 \r\nL 45.40625 54.6875 \r\nL 54.390625 54.6875 \r\nz\r\n\" id=\"DejaVuSans-103\"/>\r\n       <path d=\"M 34.28125 27.484375 \r\nQ 23.390625 27.484375 19.1875 25 \r\nQ 14.984375 22.515625 14.984375 16.5 \r\nQ 14.984375 11.71875 18.140625 8.90625 \r\nQ 21.296875 6.109375 26.703125 6.109375 \r\nQ 34.1875 6.109375 38.703125 11.40625 \r\nQ 43.21875 16.703125 43.21875 25.484375 \r\nL 43.21875 27.484375 \r\nz\r\nM 52.203125 31.203125 \r\nL 52.203125 0 \r\nL 43.21875 0 \r\nL 43.21875 8.296875 \r\nQ 40.140625 3.328125 35.546875 0.953125 \r\nQ 30.953125 -1.421875 24.3125 -1.421875 \r\nQ 15.921875 -1.421875 10.953125 3.296875 \r\nQ 6 8.015625 6 15.921875 \r\nQ 6 25.140625 12.171875 29.828125 \r\nQ 18.359375 34.515625 30.609375 34.515625 \r\nL 43.21875 34.515625 \r\nL 43.21875 35.40625 \r\nQ 43.21875 41.609375 39.140625 45 \r\nQ 35.0625 48.390625 27.6875 48.390625 \r\nQ 23 48.390625 18.546875 47.265625 \r\nQ 14.109375 46.140625 10.015625 43.890625 \r\nL 10.015625 52.203125 \r\nQ 14.9375 54.109375 19.578125 55.046875 \r\nQ 24.21875 56 28.609375 56 \r\nQ 40.484375 56 46.34375 49.84375 \r\nQ 52.203125 43.703125 52.203125 31.203125 \r\nz\r\n\" id=\"DejaVuSans-97\"/>\r\n      </defs>\r\n      <g transform=\"translate(342.300284 309.798437)scale(0.1 -0.1)\">\r\n       <use xlink:href=\"#DejaVuSans-78\"/>\r\n       <use x=\"74.804688\" xlink:href=\"#DejaVuSans-101\"/>\r\n       <use x=\"136.328125\" xlink:href=\"#DejaVuSans-103\"/>\r\n       <use x=\"199.804688\" xlink:href=\"#DejaVuSans-97\"/>\r\n       <use x=\"261.083984\" xlink:href=\"#DejaVuSans-116\"/>\r\n       <use x=\"300.292969\" xlink:href=\"#DejaVuSans-105\"/>\r\n       <use x=\"328.076172\" xlink:href=\"#DejaVuSans-118\"/>\r\n       <use x=\"387.255859\" xlink:href=\"#DejaVuSans-101\"/>\r\n      </g>\r\n     </g>\r\n    </g>\r\n   </g>\r\n   <g id=\"matplotlib.axis_2\">\r\n    <g id=\"ytick_1\">\r\n     <g id=\"line2d_3\">\r\n      <defs>\r\n       <path d=\"M 0 0 \r\nL -3.5 0 \r\n\" id=\"mdc5b5b259a\" style=\"stroke:#000000;stroke-width:0.8;\"/>\r\n      </defs>\r\n      <g>\r\n       <use style=\"stroke:#000000;stroke-width:0.8;\" x=\"39.65\" xlink:href=\"#mdc5b5b259a\" y=\"295.2\"/>\r\n      </g>\r\n     </g>\r\n     <g id=\"text_3\">\r\n      <!-- 0 -->\r\n      <defs>\r\n       <path d=\"M 31.78125 66.40625 \r\nQ 24.171875 66.40625 20.328125 58.90625 \r\nQ 16.5 51.421875 16.5 36.375 \r\nQ 16.5 21.390625 20.328125 13.890625 \r\nQ 24.171875 6.390625 31.78125 6.390625 \r\nQ 39.453125 6.390625 43.28125 13.890625 \r\nQ 47.125 21.390625 47.125 36.375 \r\nQ 47.125 51.421875 43.28125 58.90625 \r\nQ 39.453125 66.40625 31.78125 66.40625 \r\nz\r\nM 31.78125 74.21875 \r\nQ 44.046875 74.21875 50.515625 64.515625 \r\nQ 56.984375 54.828125 56.984375 36.375 \r\nQ 56.984375 17.96875 50.515625 8.265625 \r\nQ 44.046875 -1.421875 31.78125 -1.421875 \r\nQ 19.53125 -1.421875 13.0625 8.265625 \r\nQ 6.59375 17.96875 6.59375 36.375 \r\nQ 6.59375 54.828125 13.0625 64.515625 \r\nQ 19.53125 74.21875 31.78125 74.21875 \r\nz\r\n\" id=\"DejaVuSans-48\"/>\r\n      </defs>\r\n      <g transform=\"translate(26.2875 298.999219)scale(0.1 -0.1)\">\r\n       <use xlink:href=\"#DejaVuSans-48\"/>\r\n      </g>\r\n     </g>\r\n    </g>\r\n    <g id=\"ytick_2\">\r\n     <g id=\"line2d_4\">\r\n      <g>\r\n       <use style=\"stroke:#000000;stroke-width:0.8;\" x=\"39.65\" xlink:href=\"#mdc5b5b259a\" y=\"240.342857\"/>\r\n      </g>\r\n     </g>\r\n     <g id=\"text_4\">\r\n      <!-- 1000 -->\r\n      <defs>\r\n       <path d=\"M 12.40625 8.296875 \r\nL 28.515625 8.296875 \r\nL 28.515625 63.921875 \r\nL 10.984375 60.40625 \r\nL 10.984375 69.390625 \r\nL 28.421875 72.90625 \r\nL 38.28125 72.90625 \r\nL 38.28125 8.296875 \r\nL 54.390625 8.296875 \r\nL 54.390625 0 \r\nL 12.40625 0 \r\nz\r\n\" id=\"DejaVuSans-49\"/>\r\n      </defs>\r\n      <g transform=\"translate(7.2 244.142076)scale(0.1 -0.1)\">\r\n       <use xlink:href=\"#DejaVuSans-49\"/>\r\n       <use x=\"63.623047\" xlink:href=\"#DejaVuSans-48\"/>\r\n       <use x=\"127.246094\" xlink:href=\"#DejaVuSans-48\"/>\r\n       <use x=\"190.869141\" xlink:href=\"#DejaVuSans-48\"/>\r\n      </g>\r\n     </g>\r\n    </g>\r\n    <g id=\"ytick_3\">\r\n     <g id=\"line2d_5\">\r\n      <g>\r\n       <use style=\"stroke:#000000;stroke-width:0.8;\" x=\"39.65\" xlink:href=\"#mdc5b5b259a\" y=\"185.485714\"/>\r\n      </g>\r\n     </g>\r\n     <g id=\"text_5\">\r\n      <!-- 2000 -->\r\n      <defs>\r\n       <path d=\"M 19.1875 8.296875 \r\nL 53.609375 8.296875 \r\nL 53.609375 0 \r\nL 7.328125 0 \r\nL 7.328125 8.296875 \r\nQ 12.9375 14.109375 22.625 23.890625 \r\nQ 32.328125 33.6875 34.8125 36.53125 \r\nQ 39.546875 41.84375 41.421875 45.53125 \r\nQ 43.3125 49.21875 43.3125 52.78125 \r\nQ 43.3125 58.59375 39.234375 62.25 \r\nQ 35.15625 65.921875 28.609375 65.921875 \r\nQ 23.96875 65.921875 18.8125 64.3125 \r\nQ 13.671875 62.703125 7.8125 59.421875 \r\nL 7.8125 69.390625 \r\nQ 13.765625 71.78125 18.9375 73 \r\nQ 24.125 74.21875 28.421875 74.21875 \r\nQ 39.75 74.21875 46.484375 68.546875 \r\nQ 53.21875 62.890625 53.21875 53.421875 \r\nQ 53.21875 48.921875 51.53125 44.890625 \r\nQ 49.859375 40.875 45.40625 35.40625 \r\nQ 44.1875 33.984375 37.640625 27.21875 \r\nQ 31.109375 20.453125 19.1875 8.296875 \r\nz\r\n\" id=\"DejaVuSans-50\"/>\r\n      </defs>\r\n      <g transform=\"translate(7.2 189.284933)scale(0.1 -0.1)\">\r\n       <use xlink:href=\"#DejaVuSans-50\"/>\r\n       <use x=\"63.623047\" xlink:href=\"#DejaVuSans-48\"/>\r\n       <use x=\"127.246094\" xlink:href=\"#DejaVuSans-48\"/>\r\n       <use x=\"190.869141\" xlink:href=\"#DejaVuSans-48\"/>\r\n      </g>\r\n     </g>\r\n    </g>\r\n    <g id=\"ytick_4\">\r\n     <g id=\"line2d_6\">\r\n      <g>\r\n       <use style=\"stroke:#000000;stroke-width:0.8;\" x=\"39.65\" xlink:href=\"#mdc5b5b259a\" y=\"130.628571\"/>\r\n      </g>\r\n     </g>\r\n     <g id=\"text_6\">\r\n      <!-- 3000 -->\r\n      <defs>\r\n       <path d=\"M 40.578125 39.3125 \r\nQ 47.65625 37.796875 51.625 33 \r\nQ 55.609375 28.21875 55.609375 21.1875 \r\nQ 55.609375 10.40625 48.1875 4.484375 \r\nQ 40.765625 -1.421875 27.09375 -1.421875 \r\nQ 22.515625 -1.421875 17.65625 -0.515625 \r\nQ 12.796875 0.390625 7.625 2.203125 \r\nL 7.625 11.71875 \r\nQ 11.71875 9.328125 16.59375 8.109375 \r\nQ 21.484375 6.890625 26.8125 6.890625 \r\nQ 36.078125 6.890625 40.9375 10.546875 \r\nQ 45.796875 14.203125 45.796875 21.1875 \r\nQ 45.796875 27.640625 41.28125 31.265625 \r\nQ 36.765625 34.90625 28.71875 34.90625 \r\nL 20.21875 34.90625 \r\nL 20.21875 43.015625 \r\nL 29.109375 43.015625 \r\nQ 36.375 43.015625 40.234375 45.921875 \r\nQ 44.09375 48.828125 44.09375 54.296875 \r\nQ 44.09375 59.90625 40.109375 62.90625 \r\nQ 36.140625 65.921875 28.71875 65.921875 \r\nQ 24.65625 65.921875 20.015625 65.03125 \r\nQ 15.375 64.15625 9.8125 62.3125 \r\nL 9.8125 71.09375 \r\nQ 15.4375 72.65625 20.34375 73.4375 \r\nQ 25.25 74.21875 29.59375 74.21875 \r\nQ 40.828125 74.21875 47.359375 69.109375 \r\nQ 53.90625 64.015625 53.90625 55.328125 \r\nQ 53.90625 49.265625 50.4375 45.09375 \r\nQ 46.96875 40.921875 40.578125 39.3125 \r\nz\r\n\" id=\"DejaVuSans-51\"/>\r\n      </defs>\r\n      <g transform=\"translate(7.2 134.42779)scale(0.1 -0.1)\">\r\n       <use xlink:href=\"#DejaVuSans-51\"/>\r\n       <use x=\"63.623047\" xlink:href=\"#DejaVuSans-48\"/>\r\n       <use x=\"127.246094\" xlink:href=\"#DejaVuSans-48\"/>\r\n       <use x=\"190.869141\" xlink:href=\"#DejaVuSans-48\"/>\r\n      </g>\r\n     </g>\r\n    </g>\r\n    <g id=\"ytick_5\">\r\n     <g id=\"line2d_7\">\r\n      <g>\r\n       <use style=\"stroke:#000000;stroke-width:0.8;\" x=\"39.65\" xlink:href=\"#mdc5b5b259a\" y=\"75.771429\"/>\r\n      </g>\r\n     </g>\r\n     <g id=\"text_7\">\r\n      <!-- 4000 -->\r\n      <defs>\r\n       <path d=\"M 37.796875 64.3125 \r\nL 12.890625 25.390625 \r\nL 37.796875 25.390625 \r\nz\r\nM 35.203125 72.90625 \r\nL 47.609375 72.90625 \r\nL 47.609375 25.390625 \r\nL 58.015625 25.390625 \r\nL 58.015625 17.1875 \r\nL 47.609375 17.1875 \r\nL 47.609375 0 \r\nL 37.796875 0 \r\nL 37.796875 17.1875 \r\nL 4.890625 17.1875 \r\nL 4.890625 26.703125 \r\nz\r\n\" id=\"DejaVuSans-52\"/>\r\n      </defs>\r\n      <g transform=\"translate(7.2 79.570647)scale(0.1 -0.1)\">\r\n       <use xlink:href=\"#DejaVuSans-52\"/>\r\n       <use x=\"63.623047\" xlink:href=\"#DejaVuSans-48\"/>\r\n       <use x=\"127.246094\" xlink:href=\"#DejaVuSans-48\"/>\r\n       <use x=\"190.869141\" xlink:href=\"#DejaVuSans-48\"/>\r\n      </g>\r\n     </g>\r\n    </g>\r\n    <g id=\"ytick_6\">\r\n     <g id=\"line2d_8\">\r\n      <g>\r\n       <use style=\"stroke:#000000;stroke-width:0.8;\" x=\"39.65\" xlink:href=\"#mdc5b5b259a\" y=\"20.914286\"/>\r\n      </g>\r\n     </g>\r\n     <g id=\"text_8\">\r\n      <!-- 5000 -->\r\n      <defs>\r\n       <path d=\"M 10.796875 72.90625 \r\nL 49.515625 72.90625 \r\nL 49.515625 64.59375 \r\nL 19.828125 64.59375 \r\nL 19.828125 46.734375 \r\nQ 21.96875 47.46875 24.109375 47.828125 \r\nQ 26.265625 48.1875 28.421875 48.1875 \r\nQ 40.625 48.1875 47.75 41.5 \r\nQ 54.890625 34.8125 54.890625 23.390625 \r\nQ 54.890625 11.625 47.5625 5.09375 \r\nQ 40.234375 -1.421875 26.90625 -1.421875 \r\nQ 22.3125 -1.421875 17.546875 -0.640625 \r\nQ 12.796875 0.140625 7.71875 1.703125 \r\nL 7.71875 11.625 \r\nQ 12.109375 9.234375 16.796875 8.0625 \r\nQ 21.484375 6.890625 26.703125 6.890625 \r\nQ 35.15625 6.890625 40.078125 11.328125 \r\nQ 45.015625 15.765625 45.015625 23.390625 \r\nQ 45.015625 31 40.078125 35.4375 \r\nQ 35.15625 39.890625 26.703125 39.890625 \r\nQ 22.75 39.890625 18.8125 39.015625 \r\nQ 14.890625 38.140625 10.796875 36.28125 \r\nz\r\n\" id=\"DejaVuSans-53\"/>\r\n      </defs>\r\n      <g transform=\"translate(7.2 24.713504)scale(0.1 -0.1)\">\r\n       <use xlink:href=\"#DejaVuSans-53\"/>\r\n       <use x=\"63.623047\" xlink:href=\"#DejaVuSans-48\"/>\r\n       <use x=\"127.246094\" xlink:href=\"#DejaVuSans-48\"/>\r\n       <use x=\"190.869141\" xlink:href=\"#DejaVuSans-48\"/>\r\n      </g>\r\n     </g>\r\n    </g>\r\n   </g>\r\n   <g id=\"patch_5\">\r\n    <path d=\"M 39.65 295.2 \r\nL 39.65 7.2 \r\n\" style=\"fill:none;stroke:#000000;stroke-linecap:square;stroke-linejoin:miter;stroke-width:0.8;\"/>\r\n   </g>\r\n   <g id=\"patch_6\">\r\n    <path d=\"M 471.65 295.2 \r\nL 471.65 7.2 \r\n\" style=\"fill:none;stroke:#000000;stroke-linecap:square;stroke-linejoin:miter;stroke-width:0.8;\"/>\r\n   </g>\r\n   <g id=\"patch_7\">\r\n    <path d=\"M 39.65 295.2 \r\nL 471.65 295.2 \r\n\" style=\"fill:none;stroke:#000000;stroke-linecap:square;stroke-linejoin:miter;stroke-width:0.8;\"/>\r\n   </g>\r\n   <g id=\"patch_8\">\r\n    <path d=\"M 39.65 7.2 \r\nL 471.65 7.2 \r\n\" style=\"fill:none;stroke:#000000;stroke-linecap:square;stroke-linejoin:miter;stroke-width:0.8;\"/>\r\n   </g>\r\n  </g>\r\n </g>\r\n <defs>\r\n  <clipPath id=\"p9835a2e660\">\r\n   <rect height=\"288\" width=\"432\" x=\"39.65\" y=\"7.2\"/>\r\n  </clipPath>\r\n </defs>\r\n</svg>\r\n",
      "text/plain": "<Figure size 432x288 with 1 Axes>"
     },
     "metadata": {
      "needs_background": "light"
     },
     "output_type": "display_data"
    }
   ],
   "source": [
    "positive_tokens_for_model = get_tweets_for_model(positive_cleaned_tokens_list)\n",
    "negative_tokens_for_model = get_tweets_for_model(negative_cleaned_tokens_list)\n",
    "\n",
    "print(positive_tokens_for_model)\n",
    "print(negative_tokens_for_model)\n",
    "\n",
    "pos_count=0\n",
    "for tweet_dict in positive_tokens_for_model:\n",
    "    pos_count+=1\n",
    "\n",
    "neg_count=0\n",
    "for tweet_dict in negative_tokens_for_model:\n",
    "    neg_count+=1\n",
    "\n",
    "fig = plt.figure()\n",
    "tweet_type = ['Positive','Negative']\n",
    "tweet_counts = [pos_count,neg_count]\n",
    "ax = fig.add_axes([0,0,1,1])\n",
    "ax.bar(tweet_type,tweet_counts)\n",
    "plt.show()"
   ]
  },
  {
   "cell_type": "code",
   "execution_count": 79,
   "metadata": {},
   "outputs": [
    {
     "name": "stdout",
     "output_type": "stream",
     "text": " ':(': True}, 'Negative'), ({'scurri': True, 'agile': True, '#shipping': True, 'solution': True, 'available': True, 'market': True, 'book': True, 'free': True, 'demo': True, ':-)': True, '#retail': True, '#delivery': True, '#sme': True}, 'Positive'), ({'sheriff': True, 'see': True, 'aaaaaaaaaaa': True, 'aaaaages': True, ':(': True}, 'Negative'), ({'happy': True, 'friday': True, 'everyone': True, ':)': True, 'big': True, '#followfriday': True}, 'Positive'), ({'welcome': True, ':)': True}, 'Positive'), ({'hi': True, 'dark': True, 'angel': True, 'mochamichelle': True, ':)': True, 'wanna': True, 'get': True, 'iph': True, '0ne': True, '6': True, 'free': True, 'simply': True, 'go': True, 'check': True, 'bi0': True, 'thx': True}, 'Positive'), ({'didnt': True, 'take': True, 'photo': True, ':-(': True}, 'Negative'), ({'10': True, 'loner': True, 'side': True, 'please': True, ':)': True}, 'Positive'), ({\"we've\": True, 'receive': True, 'payment': True, 'order': True, 'process': True, ':)': True, 'thanks': True, 'shop': True, 'spree': True}, 'Positive'), ({\"i'm\": True, 'appreciate': True, 'body': True, 'feed': True, 'need': True, ':-)': True}, 'Positive'), ({'hate': True, 'u': True, 'offline': True, ':(': True}, 'Negative'), ({'awesome': True, ':)': True, \"i'll\": True, 'wait': True}, 'Positive'), ({'hey': True, \"here's\": True, 'invite': True, 'join': True, 'scope': True, 'influencer': True, ':)': True}, 'Positive'), ({'thank': True, ':)': True}, 'Positive'), ({'know': True, 'help': True, 'get': True, 'awake': True, '...': True, 'shock': True, 'spill': True, 'coffe': True, 'rest': True, ':d': True}, 'Positive'), ({'#sharethelove': True, 'top': True, 'highvalue': True, 'member': True, 'week': True, ':)': True}, 'Positive'), ({'u': True, 'fab': True, ':(': True, 'therese': True, 'hahahahaha': True, 'cred': True}, 'Negative'), ({'know': True, 'would': True, ':)': True}, 'Positive'), ({'come': True, 'house': True, ':)': True}, 'Positive'), ({'nobody': True, 'tell': True, 'side': True, 'twitter': True, 'cs': True, 'sorry': True, ':(': True}, 'Negative'), ({'pip': True, 'post': True, 'think': True, ':-(': True}, 'Negative'), ({'happy': True, 'friday': True, 'everyone': True, 'hope': True, 'fantastic': True, 'week': True, ':)': True, '#friday': True}, 'Positive'), ({'someone': True, 'please': True, 'gift': True, '#notanapology': True, ':(': True}, 'Negative'), ({'fine': True, '...': True, 'gorgeous': True, 'friday': True, 'friend': True, '..': True, 'xo': True, ':)': True}, 'Positive'), ({'happy': True, 'birthday': True, 'chocolate': True, 'lover': True, 'cake': True, '...': True, 'tenerina': True, 'auguri': True, 'italy': True, ':)': True, 'best': True, 'wish': True}, 'Positive'), ({\"what's\": True, 'hashtag': True, 'weekend': True, 'guy': True, ':)': True}, 'Positive'), ({'going': True, 'real': True, ':)': True}, 'Positive'), ({'jeremy': True, 'kyle': True, 'close': True, 'home': True, 'morning': True, ':(': True}, 'Negative'), ({'come': True, 'dallas': True, 'dandia': True, 'right': True, ':(': True}, 'Negative'), ({'sorry': True, ':(': True}, 'Negative'), ({'back': True, '80s': True, 'wz': True, 'pattern': True, 'cut': True, 'make': True, 'buttonhole': True, 'finishing': True, '4my': True, 'designer': True, \"friend's\": True, 'famous': True, 'client': True, ':)': True}, 'Positive'), ({'still': True}, 'Negative'), ({'morning': True, 'everyone': True, ':d': True}, 'Positive'), ({'done': True, 'afang': True, 'soup': True, 'make': True, 'semo': True, 'next': True, ':d': True}, 'Positive'), ({'follow': True, 'u': True, 'back': True, ':)': True}, 'Positive'), ({'best': True, 'spectator': True, 'sail': True, 'uk': True, \"w'end\": True, 'bbc': True, 'show': True, 'highlight': True, ':(': True, '‘': True, 'fly': True, '’': True, 'foil': True, 'ac45': True, 'catamaran': True}, 'Negative'), ({'wait': True, '...': True, 'everyone': True, 'photo': True, 'phone': True, 'wonder': True, 'talk': True, 'lol': True, ':d': True}, 'Positive'), ({'make': True, 'good': True, 'though': True, ':-)': True}, 'Positive'), ({'hi': True, 'bam': True, 'follow': True, 'bestfriend': True, 'love': True, 'lot': True, ':)': True, 'see': True, 'warsaw': True, '<3': True, 'x12': True}, 'Positive'), ({'even': True, 'start': True, 'trend': True, 'wanna': True, 'know': True, 'jot': True, 'truth': True, ':(': True, '#zayniscomingbackonjuly26': True}, 'Negative'), ({'sian': True, 'ah': True, 'go': True, 'anybody': True, 'want': True, 'meet': True, ':-(': True}, 'Negative'), ({'want': True, 'dont': True, 'paypal': True, ':(': True}, 'Negative'), ({'packing': True, 'nightmare': True, ':(': True}, 'Negative'), ({'nope': True, ':-)': True}, 'Positive'), ({'please': True, 'complain': True, 'coffee': True, 'youll': True, 'old': True, 'weak': True, 'someday': True, ':-)': True}, 'Positive'), ({'come': True, 'fly': True, 'baby': True, ':)': True, '#retweet': True, '#marine': True, '#navy': True, '#airforce': True, '#battlefield': True}, 'Positive'), ({'#newbethvideo': True, 'love': True, 'sooo': True, 'much': True, '...': True, 'live': True, 'greece': True, 'dont': True, 'think': True, \"i'm\": True, 'gonna': True, 'win': True, ':(': True, 'always': True, 'hope': True, '<3': True}, 'Negative'), ({'sorry': True, ':(': True, \"i'll\": True, 'let': True, 'know': True, 'see': True, '♡': True}, 'Negative'), ({'would': True, 'fair': True, 'say': True, 'privilege': True, 'club': True, 'joke': True, 'matter': True, 'ask': True, 'nothing': True, 'ever': True, 'available': True, ':-(': True}, 'Negative'), ({'go': True, 'room': True, 'bc': True, '3': True, ':-)': True}, 'Positive'), ({'u': True, 'give': True, '350': True, 'ill': True, 'rts': True, 'anything': True, 'pls': True, ':(': True}, 'Negative'), ({'actual': True, 'lol': True, ':)': True}, 'Positive'), ({'wow': True, 'finally': True, 'aku': True, 'bakal': True, 'liat': True, 'kak': True, 'merry': True, 'di': True, 'tv': True, 'first': True, 'time': True, ':d': True}, 'Positive'), ({'two': True, 'dog': True, 'one': True, 'cat': True, 'good': True, 'friend': True, ':-)': True, '#goodwynsgoodies': True, '#freebiefriday': True}, 'Positive'), ({'stone': True, 'along': True, 'lb': True, 'set': True, 'target': True, 'weight': True, 'appear': True, 'come': True, 'quicker': True, 'id': True, 'also': True, 'recommend': True, 'run': True, 'instead': True, 'heavy': True, 'diet': True, ':)': True}, 'Positive'), ({'gamer': True, 'follow': True, 'train': True, 'retweet': True, 'retweeted': True, 'gain': True, 'active': True, 'follower': True, ':)': True, '110': True}, 'Positive'), ({\"can't\": True, 'sleep': True, 'bc': True, 'heartburn': True, ':-(': True}, 'Negative'), ({'yes': True, 'fridays': True, ':)': True}, 'Positive'), ({'pick': True, 'please': True, ':)': True}, 'Positive'), ({'rest': True, 'peace': True, 'mo': True, ':(': True}, 'Negative'), ({'lol': True, '...': True, 'morning': True, ':)': True, 'wet': True, 'hey': True, 'friday': True}, 'Positive'), ({\"i'll\": True, 'look': True, 'library': True, 'book': True, 'store': True, 'first': True, 'anyway': True, ':)': True}, 'Positive'), ({'im': True, 'greatful': True, 'still': True, 'see': True, 'u': True, 'despite': True, '144p': True, ':(': True}, 'Negative'), ({'top': True, 'cutie': True, 'bohol': True, ':)': True}, 'Positive'), ({'good': True, 'bye': True, 'stage': True, ':(': True}, 'Negative'), ({'want': True, ':(': True, 'make': True, 'gulo': True, 'tho': True, 'kandekjs': True, 'go': True, 'school': True, 'still': True, 'pass': True, 'wanna': True, 'cry': True, 'hahahah': True}, 'Negative'), ({'deactivate': True, ':(': True}, 'Negative'), ({'brilliant': True, ':)': True}, 'Positive'), ({\"i'm\": True, 'proud': True, 'heart': True, 'play': True, 'stab': True, 'cheat': True, 'burn': True, 'break': True, 'somehow': True, 'still': True, 'work': True, ':(': True, '#unknown': True}, 'Negative'), ({'follback': True, ':)': True}, 'Positive'), ({'hi': True, 'bam': True, 'follow': True, 'bestfriend': True, 'love': True, 'lot': True, ':)': True, 'see': True, 'warsaw': True, '<3': True, 'x32': True}, 'Positive'), ({'sadkaay': True, 'tharkness': True, 'peak': True, ':)': True}, 'Positive'), ({'srsly': True, 'u': True, ':(': True}, 'Negative'), ({'keep': True, 'calm': True, 'stay': True, 'kepo': True, ':)': True, ':d': True}, 'Positive'), ({'#psygustokita': True, 'good': True, 'afternoon': True, ':)': True}, 'Positive'), ({'text': True, ':-)': True}, 'Positive'), ({\"we're\": True, 'training': True, '#socent': True, 'startup': True, 'week': True, 'w': True, \"we'd\": True, 'love': True, 'drop': True, 'youre': True, 'arnd': True, 'town': True, ':)': True}, 'Positive'), ({'people': True, 'need': True, 'talk-kama': True, 'hawako': True, 'around': True, ':(': True, 'waa': True, 'kimaaaaaani': True, 'prisssss': True}, 'Negative'), ({'feel': True, 'girl': True, ':(': True}, 'Negative'), ({'feel': True, 'campaign': True, 'come': True, 'although': True, 'certain': True, 'editor': True, 'reveal': True, 'allergic': True, 'cat': True, 'boooo': True, ':(': True}, 'Negative'), ({'bechos': True, ':(': True}, 'Negative'), ({'oh': True, 'miss': True, 'broadcast': True}, 'Negative'), ({'ok': True, '19:30': True, 'apple': True, 'store': True, 'ifc': True, \"we'll\": True, 'pick': True, 'place': True, 'go': True, ':-)': True}, 'Positive'), ({'land': True, 'gc': True, 'yeeew': True, 'pre': True, 'lan': True, ':)': True}, 'Positive'), ({\"yesterday's\": True, 'groupie': True, 'bebe': True, 'sizams': True, ':)': True}, 'Positive'), ({'hi': True, 'bam': True, 'follow': True, 'bestfriend': True, 'love': True, 'lot': True, ':)': True, 'see': True, 'warsaw': True, '<3': True, 'x42': True}, 'Positive'), ({'patience': True, 'something': True, 'still': True, '#sobtian': True, ':p': True}, 'Positive'), ({'work': True, 'freezing': True, ':(': True}, 'Negative'), ({'view': True, 'property': True, 'agent': True, 'say': True, 'kitchen': True, 'need': True, 'attention': True, 'like': True, 'accurate': True, 'description': True, ':-)': True}, 'Positive'), ({'follow': True, ':(': True}, 'Negative'), ({'phone': True, 'shit': True, 'always': True, 'run': True, 'memory': True, ':(': True, '...': True, '2': True, 'many': True, 'nude': True}, 'Negative'), ({\"everyone's\": True, 'work': True, \"can't\": True, 'even': True, 'get': True, ':(': True}, 'Negative'), ({'nothing': True, 'shepherds': True, 'bush': True, 'either': True, ':(': True, 'want': True, 'ice': True, 'cream': True}, 'Negative'), ({'yeahhh': True, ':(': True, '..': True, 'mean': True, 'hacharatt': True}, 'Negative'), ({\"that's\": True, 'awesome': True, 'people': True, 'take': True, 'much': True, 'long': True, ':)': True}, 'Positive'), ({'planning': True, 'send': True, 'email': True, \"chippy's\": True, 'vessel': True, 'monday': True, 'ps': True, 'happy': True, 'anniversary': True, 'haha': True, ':)': True}, 'Positive'), ({'fugly': True, 'af': True, 'school': True, 'id': True, ':-(': True}, 'Negative'), ({'mad': True, 'wrong': True, ':(': True, 'make': True, 'forgive': True}, 'Negative'), ({'baby': True, 'followback': True, 'huhu': True, ':(': True}, 'Negative'), ({'girl': True, 'say': True, 'mean': True, 'want': True, 'man': True, 'even': True, 'know': True, 'back': True, ':(': True}, 'Negative'), ({'miss': True, 'venice': True, ':(': True}, 'Negative'), ({'lol': True, 'well': True, \"can't\": True, 'buy': True, 'nachos': True, ':(': True}, 'Negative'), ({'trying': True, 'face': True, 'paint': True, 'show': True, '#muertosatfringe': True, ':)': True}, 'Positive'), ({'thank': True, ':)': True, 'tweenie_fox': True, 'hi': True, 'please': True, 'click': True, 'list': True, 'hair': True, 'accessory': True, 'product': True}, 'Positive'), ({'fuck': True, 'tire': True, ':-(': True}, 'Negative'), ({'dont': True, 'think': True, 'ever': True, 'notice': True, ':(': True, 'still': True, 'exist': True}, 'Negative'), ({'aaaaaaaaaaaah': True, 'sound': True, 'kanye': True, 'make': True, 'hey': True, 'mama': True, 'cute': True, ':(': True}, 'Negative'), ({'awake': True, ':p': True}, 'Positive'), ({'case': True, 'bae': True, 'act': True, 'brand': True, 'new': True, ':)': True, '💘': True}, 'Positive'), ({'longmorn': True, '30': True, 'suppose': True, 'replacement': True, 'tobermory': True, '32': True, '...': True, 'beginning': True, 'strong': True, 'tail': True, 'miss': True, ':(': True}, 'Negative'), ({'nice': True, 'quote': True, ':)': True, '#kunoriforceo': True, '#ceo1month': True}, 'Positive'), ({'last': True, 'day': True, ':(': True}, 'Negative'), ({'finally': True, 'home': True, 'drive': True, 'since': True, '5am': True, ':(': True}, 'Negative'), ({'tired': True, 'grumpy': True, 'today': True, 'hate': True, 'miss': True, 'exercise': True, 'make': True, 'feel': True, 'much': True, 'good': True, 'go': True, 'combat': True, 'holiday': True, ':(': True}, 'Negative'), ({'。': True, ':(': True, '´': True, 'ω': True, '」': True, '∠': True, '):': True}, 'Negative'), ({'sadly': True, 'show': True, 'masaan': True, ':(': True, 'watch': True, 'muv': True, 'come': True, 'hd': True}, 'Negative'), ({'congrtaualtions': True, ':)': True}, 'Positive'), ({'good': True, 'witness': True, ':-)': True}, 'Positive'), ({'«': True, ':)': True, 'want': True, '#ff': True}, 'Positive'), ({'wish': True, 'could': True, 'come': True, 'see': True, 'disability': True, 'pension': True, 'ptsd': True, 'make': True, 'impossible': True, 'physically': True, 'financially': True, ':(': True}, 'Negative'), ({'hour': True, 'beauty': True, 'sleep': True, 'ready': True, 'pure': True, 'organisation': True, 'offices': True, 'weekend': True, ':-)': True, 'oh': True, '...': True}, 'Positive'), ({'wake': True, 'pee': True, 'sun': True, 'come': True, \"can't\": True, 'go': True, 'back': True, 'sleep': True, ':(': True}, 'Negative'), ({'haha': True, '10:17': True, ':d': True}, 'Positive'), ({'like': True, 'video': True, 'stuffy': True, 'nose': True, ':(': True, 'bo2': True}, 'Negative'), ({'sehun': True, 'seem': True, 'skinny': True, 'day': True, ':(': True}, 'Negative'), ({'teen': True, 'top': True, 'actually': True, 'perform': True, 'rain': True, 'yesterday': True, '...': True, 'fk': True, 'ok': True, ':(': True, 'im': True, 'still': True, 'v': True, 'proud': True, 'la': True}, 'Negative'), ({'...': True, ':(': True, 'hate': True, 'jong': True, 'dongwoo': True, 'photocards': True, \"i've\": True, 'get': True, 'wh': True, 'dw': True, 'sj': True}, 'Negative'), ({'want': True, 'game': True, 'last': True, 'nintendo': True, 'buy': True, 'wii': True, ':(': True}, 'Negative'), ({'chaerin': True, 'unnie': True}, 'Positive'), ({'big': True, 'floofs': True, 'face': True, 'muahah': True, '>:)': True}, 'Positive'), ({'hate': True, 'hot': True, 'weather': True, ':(': True, 'graduation': True, 'ceremony': True, 'late': True, 'boy': True, 'gonna': True, 'wear': True, 'suit': True, 'everyones': True, 'go': True, 'die': True}, 'Negative'), ({'thank': True, 'much': True, 'help': True, 'spread': True, 'word': True, 'us': True, 'finalist': True, 'national': True, 'lottery': True, 'awards': True, ':-)': True}, 'Positive'), ({'heyyyyy': True, 'want': True, 'see': True, 'yeols': True, 'solo': True, 'danceeeeee': True, ':(': True}, 'Negative'), ({'aint': True, 'wrong': True, 'buddy': True, ':)': True}, 'Positive'), ({'thank': True, ':)': True, '🍰': True}, 'Positive'), ({'#sellyourcarin5words': True, '#chaloniklo': True, ':)': True, 'pic.twitter.com/jxz2lbv6o': True}, 'Positive'), ({'hi': True, 'bam': True, 'follow': True, 'bestfriend': True, 'love': True, 'lot': True, ':)': True, 'see': True, 'warsaw': True, '<3': True, 'x2': True}, 'Positive'), ({'lonely': True, 'sometimes': True, 'call': True, 'number': True, 'get': True, 'busy': True, 'tone': True, ':(': True}, 'Negative'), ({'hi': True, 'would': True, 'like': True, 'concert': True, 'let': True, 'know': True, 'city': True, 'country': True, \"i'll\": True, 'start': True, 'work': True, 'thanks': True, ':)': True}, 'Positive'), ({'stop': True, 'cyber': True, 'bully': True, ':-(': True}, 'Negative'), ({'happy': True, 'birthday': True, 'know': True, 'wolf': True, ':)': True}, 'Positive'), ({'apparently': True, \"i'm\": True, 'still': True, 'dm': True, 'limit': True, '😒': True, 'tho': True, ':)': True}, 'Positive'), ({':(': True, 'hopefully': True, 'chwang': True, 'still': True, 'drag': True, 'eat': True, 'late': True, 'sob': True}, 'Negative'), ({'6:15': True, 'pm': True, 'rn': True, 'currently': True, '70': True, 'degree': True, 'fahrenheit': True, 'really': True, 'warm': True, 'good': True, ':)': True}, 'Positive'), ({'guys': True, 'add': True, 'kik': True, 'opixer': True, '805': True, '#kik': True, '#kikme': True, '#talk': True, '#lesbian': True, '#oralsex': True, '#video': True, '#sexual': True, ':(': True}, 'Negative'), ({'“': True, 'yes': True, 'inconsiderate': True, ':(': True, '”': True}, 'Negative'), ({'thrice': True, ':)': True}, 'Positive'), ({':d': True}, 'Positive'), ({'ye': True, '#pk': True, 'hay': True, ':p': True}, 'Positive'), ({'best': True, 'atp': True, 'player': True, 'wimbledon': True, '2015': True, '):': True, 'federer': True, 'nadal': True, 'monfils': True, 'handsome': True, 'cilic': True, ':)': True}, 'Positive'), ({'ps3': True, 'still': True, 'good': True, \"i'd\": True, 'say': True, 'keep': True, 'use': True, 'though': True, 'choice': True, ':)': True}, 'Positive'), ({'#ourdaughtersourpride': True, 'great': True, 'bapu': True, 'u': True, 'r': True, 'best': True, 'coach': True, 'ji': True, ':)': True}, 'Positive'), ({'feel': True, ':(': True}, 'Negative'), ({'thanks': True, 'follow': True, 'great': True, 'connect': True, ':)': True}, 'Positive'), ({'hate': True, 'life': True, 'much': True, ':-)': True, 'lmao': True}, 'Positive'), ({'read': True, 'sm': True, 'quote': True, 'fb': True, 'remind': True, 'abt': True, '1': True, 'miss': True, 'much': True, ':(': True}, 'Negative'), ({'try': True, 'turn': True, ':)': True}, 'Positive'), ({'add': True, 'snapchat': True, 'yall': True, ':)': True, 'give': True, 'name': True}, 'Positive'), ({'mean': True, 'low': True, 'limit': True, 'table': True, 'xd': True, ':(': True}, 'Negative'), ({'cant': True, 'bc': True, 'im': True, 'go': True, 'thorpe': True, 'park': True, '5': True, 'day': True, 'bday': True, ':(': True, 'idk': True, 'instead': True}, 'Negative'), ({\"we're\": True, 'get': True, 'old': True, 'baby': True, ':(': True}, 'Negative'), ({'bruce': True, 'smile': True, ':(': True}, 'Negative'), ({'kik': True, 'entlead': True, '590': True, '#kik': True, '#kikmenow': True, '#nudes': True, '#hornykik': True, '#tinder': True, '#quote': True, '#webcamsex': True, ':(': True}, 'Negative'), ({'complain': True, 'someone': True, 'something': True, 'middle': True, 'conversation': True, 'ask': True, 'go': True, 'sleep': True, 'wtf': True, 'rude': True, ':)': True}, 'Positive'), ({'rly': True, 'wanna': True, 'spend': True, 'christmas': True, 'relative': True, 'yr': True, ':(': True}, 'Negative'), ({'burnout': True, ':d': True, '#johnforceo': True, '#ceo1month': True}, 'Positive'), ({'happy': True, 'weekend': True, 'everyone': True, 'smile': True, 'lot': True, ':)': True}, 'Positive'), ({'goood': True, 'hot': True, 'tan': True, 'line': True, 'ugly': True, 'im': True, 'go': True, 'home': True, 'tonight': True, ':(': True}, 'Negative'), ({'watch': True, 'baby': True, 'bear': True, 'episode': True, \"can't\": True, 'help': True, 'think': True, 'sweet': True, 'kind': True, 'caring': True, '5': True, 'kid': True, 'keep': True, ':)': True}, 'Positive'), ({'miss': True, 'much': True, 'ate': True, 'elisse': True, ':(': True, 'u': True, 'still': True, 'remember': True, '😭': True}, 'Negative'), ({'funny': True, 'yes': True, 'soon': True, 'always': True, 'go': True, ':d': True}, 'Positive'), ({'mb': True, 'need': True, 'coffee': True, ':-)': True}, 'Positive'), ({'happy': True, 'birthday': True, 'malik': True, 'umair': True, 'big': True, 'celebrity': True, 'canon': True, 'gang': True, 'stay': True, 'blessed': True, 'bro': True, ':)': True}, 'Positive'), ({'watch': True, 'us': True, ':(': True}, 'Negative')]\n"
    }
   ],
   "source": [
    "positive_dataset = [(tweet_dict, \"Positive\")\n",
    "                     for tweet_dict in positive_tokens_for_model]\n",
    "\n",
    "print(positive_dataset)\n",
    "print(negative_dataset)\n",
    "\n",
    "negative_dataset = [(tweet_dict, \"Negative\")\n",
    "                     for tweet_dict in negative_tokens_for_model]\n",
    "\n",
    "dataset = positive_dataset + negative_dataset\n",
    "\n",
    "random.shuffle(dataset)\n",
    "\n",
    "#70:30 split\n",
    "train_data = dataset[:7000]\n",
    "test_data = dataset[7000:]   \n",
    "\n",
    "print(train_data)\n",
    "print(test_data)"
   ]
  },
  {
   "cell_type": "code",
   "execution_count": 80,
   "metadata": {},
   "outputs": [],
   "source": [
    "classifier = NaiveBayesClassifier.train(train_data)"
   ]
  },
  {
   "cell_type": "code",
   "execution_count": 81,
   "metadata": {},
   "outputs": [
    {
     "name": "stdout",
     "output_type": "stream",
     "text": "Accuracy is: 0.9933333333333333\nMost Informative Features\n                      :( = True           Negati : Positi =   2072.9 : 1.0\n                      :) = True           Positi : Negati =    995.2 : 1.0\n                follower = True           Positi : Negati =     20.2 : 1.0\n                     bam = True           Positi : Negati =     19.7 : 1.0\n                     x15 = True           Negati : Positi =     19.0 : 1.0\n                     sad = True           Negati : Positi =     18.3 : 1.0\n               community = True           Positi : Negati =     15.7 : 1.0\n                 welcome = True           Positi : Negati =     15.3 : 1.0\n                      aw = True           Negati : Positi =     13.0 : 1.0\n                followed = True           Negati : Positi =     12.6 : 1.0\nNone\n"
    }
   ],
   "source": [
    "print(\"Accuracy is:\", classify.accuracy(classifier, test_data))\n",
    "print(classifier.show_most_informative_features(10))"
   ]
  }
 ],
 "metadata": {
  "kernelspec": {
   "display_name": "Python 3.7.4 64-bit ('Sentimentalysis': pipenv)",
   "language": "python",
   "name": "python37464bitsentimentalysispipenv2ecf9f9864494e2a87fdb41f82259c4c"
  },
  "language_info": {
   "codemirror_mode": {
    "name": "ipython",
    "version": 3
   },
   "file_extension": ".py",
   "mimetype": "text/x-python",
   "name": "python",
   "nbconvert_exporter": "python",
   "pygments_lexer": "ipython3",
   "version": "3.7.4-final"
  }
 },
 "nbformat": 4,
 "nbformat_minor": 2
}